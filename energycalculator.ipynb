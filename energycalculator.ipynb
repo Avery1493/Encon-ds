{
 "cells": [
  {
   "cell_type": "code",
   "execution_count": 12,
   "metadata": {},
   "outputs": [],
   "source": [
    "import pandas as pd"
   ]
  },
  {
   "cell_type": "code",
   "execution_count": 21,
   "metadata": {},
   "outputs": [],
   "source": [
    "state = [ \"US Average\", \"Alabama\",\"Alaska\", \"Arizona\", \"Arkansas\",  \"California\",\n",
    "      \"Colorado\", \"Connecticut\",\"District Of Columbia\", \"Delaware\", \"Florida\",\n",
    "      \"Georgia\", \"Hawaii\", \"Idaho,\", \"Illinois\", \"Indiana\",\n",
    "      \"Iowa\", \"Kansas\", \"Kentucky\", \"Louisiana\",\"Maine\",\n",
    "      \"Maryland\",\"Massachusetts\" , \"Michigan\", \"Minnesota\", \"Mississippi\",\n",
    "      \"Missouri\", \"Montana\", \"Nebraska\", \"Nevada\", \"New Hampshire\",\n",
    "      \"New Jersey\", \"New Mexico\", \"New York\",\"North Carolina\", \"North Dakota\",\n",
    "      \"Ohio\", \"Oklahoma\", \"Oregon\", \"Pennsylvania\", \"Rhode Island\",\n",
    "       \"South Carolina\", \"South Dakota\", \"Tennessee\", \"Texas\", \"Utah\",\n",
    "       \"Vermont\", \"Virginia\", \"Washington\", \"West Virginia\", \"Wisconsin\", \"Wyoming\"]\n",
    "\n",
    "abbrev = [\"US\", \"AL\", \"AK\", \"AZ\", \"AR\", \"CA\",\n",
    "      \"CO\", \"CT\", \"DC\", \"DE\", \"FL\",\n",
    "      \"GA\", \"HI\", \"ID\", \"IL\", \"IN\",\n",
    "      \"IA\", \"KS\", \"KY\", \"LA\", \"ME\",\n",
    "      \"MD\", \"MA\", \"MI\", \"MN\", \"MS\",\n",
    "      \"MO\", \"MT\", \"NE\", \"NV\", \"NH\",\n",
    "      \"NJ\", \"NM\", \"NY\", \"NC\", \"ND\",\n",
    "      \"OH\", \"OK\", \"OR\", \"PA\", \"RI\",\n",
    "      \"SC\", \"SD\", \"TN\", \"TX\", \"UT\",\n",
    "      \"VT\", \"VA\", \"WA\", \"WV\", \"WI\", \"WY\"]\n",
    "\n",
    "rate = [13.2, 11.85, 21.75, 12.21, 9.3, 18.34,\n",
    "      11.89, 21.51, 13, 12.25, 11.99,\n",
    "      10.7, 32.08, 9.83, 12.19,11.87,\n",
    "      11.44, 10.29, 10.21, 8.84, 17.26,\n",
    "      13.07, 22.51, 15, 12.79, 10.95,\n",
    "      9.28, 10.83, 9.6, 11.79, 19.96,\n",
    "      15.72, 12.21, 17.27, 10.99, 9.17, \n",
    "      11.98, 8.8, 10.63, 12.53, 22.7,\n",
    "      11.89, 10.57, 10.78, 11.65, 10.01,\n",
    "      16.73, 11.4, 9.31, 9.72, 14.01, 10.56]\n",
    "\n",
    "data = {\"state\": state, \"abbrev\": abbrev, \"rate\": rate}\n",
    "\n",
    "states = pd.DataFrame(data=data)\n",
    "states[\"rate\"] = (states[\"rate\"]/100)\n",
    "#df.to_csv('state_utility.csv', index=False)"
   ]
  },
  {
   "cell_type": "code",
   "execution_count": 23,
   "metadata": {},
   "outputs": [
    {
     "name": "stdout",
     "output_type": "stream",
     "text": [
      "(52, 3)\n"
     ]
    },
    {
     "data": {
      "text/html": [
       "<div>\n",
       "<style scoped>\n",
       "    .dataframe tbody tr th:only-of-type {\n",
       "        vertical-align: middle;\n",
       "    }\n",
       "\n",
       "    .dataframe tbody tr th {\n",
       "        vertical-align: top;\n",
       "    }\n",
       "\n",
       "    .dataframe thead th {\n",
       "        text-align: right;\n",
       "    }\n",
       "</style>\n",
       "<table border=\"1\" class=\"dataframe\">\n",
       "  <thead>\n",
       "    <tr style=\"text-align: right;\">\n",
       "      <th></th>\n",
       "      <th>state</th>\n",
       "      <th>abbrev</th>\n",
       "      <th>rate</th>\n",
       "    </tr>\n",
       "  </thead>\n",
       "  <tbody>\n",
       "    <tr>\n",
       "      <th>0</th>\n",
       "      <td>US Average</td>\n",
       "      <td>US</td>\n",
       "      <td>0.1320</td>\n",
       "    </tr>\n",
       "    <tr>\n",
       "      <th>1</th>\n",
       "      <td>Alabama</td>\n",
       "      <td>AL</td>\n",
       "      <td>0.1185</td>\n",
       "    </tr>\n",
       "    <tr>\n",
       "      <th>2</th>\n",
       "      <td>Alaska</td>\n",
       "      <td>AK</td>\n",
       "      <td>0.2175</td>\n",
       "    </tr>\n",
       "    <tr>\n",
       "      <th>3</th>\n",
       "      <td>Arizona</td>\n",
       "      <td>AZ</td>\n",
       "      <td>0.1221</td>\n",
       "    </tr>\n",
       "    <tr>\n",
       "      <th>4</th>\n",
       "      <td>Arkansas</td>\n",
       "      <td>AR</td>\n",
       "      <td>0.0930</td>\n",
       "    </tr>\n",
       "  </tbody>\n",
       "</table>\n",
       "</div>"
      ],
      "text/plain": [
       "        state abbrev    rate\n",
       "0  US Average     US  0.1320\n",
       "1     Alabama     AL  0.1185\n",
       "2      Alaska     AK  0.2175\n",
       "3     Arizona     AZ  0.1221\n",
       "4    Arkansas     AR  0.0930"
      ]
     },
     "execution_count": 23,
     "metadata": {},
     "output_type": "execute_result"
    }
   ],
   "source": [
    "print(states.shape)\n",
    "states.head()"
   ]
  },
  {
   "cell_type": "code",
   "execution_count": 24,
   "metadata": {},
   "outputs": [
    {
     "name": "stdout",
     "output_type": "stream",
     "text": [
      "Energy Used: 157.5 kWh\n",
      "Cost per Year: $20.475\n"
     ]
    }
   ],
   "source": [
    "# Energy Cost Formula\n",
    "# One kilowatt is equal to 1000 watts\n",
    "wattage = 900\n",
    "utility_rate = .13\n",
    "hours_per_day = .5\n",
    "days_per_year = 350\n",
    "watts_per_kilowatt = 1000\n",
    "\n",
    "energy_used = (wattage*hours_per_day*days_per_year)/watts_per_kilowatt\n",
    "cost_per_year = energy_used* utility_rate\n",
    "print(f\"Energy Used: {energy_used} kWh\")\n",
    "print(f\"Cost per Year: ${cost_per_year}\")"
   ]
  },
  {
   "cell_type": "code",
   "execution_count": 25,
   "metadata": {},
   "outputs": [],
   "source": [
    "def energy_cost(wattage,rate,hours,days):\n",
    "  '''\n",
    "  This function calculates how much energy a device uses per year\n",
    "  and how much it will cost on a yearly basis.\n",
    "  The user should first find the wattage of their device,\n",
    "  indicate thecost of the utility rate they pay (state avg if unknown),\n",
    "  and estimate the hours they use the device per day, \n",
    "  and how many days per year they typically use the device.\n",
    "\n",
    "  Example: The typically wattage level of a coffee maker \n",
    "  is between 900-1200 watts. The average utility rate in\n",
    "  the U.S. is $.13/kWh. If you use your coffee maker for \n",
    "  about half an hour (.5) for almost everyday of the \n",
    "  year (350), that's a total of 157.5 kWh, and would cost\n",
    "  $18.90 a year. \n",
    "\n",
    "  energy_used = (900 * .5 * 350) / 1000\n",
    "  cost_per_year = energy_used * .13\n",
    "  '''\n",
    "  wattage = wattage\n",
    "  utility_rate = rate\n",
    "  hours_per_day = hours\n",
    "  days_per_year = days\n",
    "  watts_per_kilowatt = 1000\n",
    "\n",
    "  energy_used = (wattage*hours_per_day*days_per_year)/watts_per_kilowatt\n",
    "  cost_per_year = round(energy_used* utility_rate,2)\n",
    "\n",
    "  return energy_used, cost_per_year"
   ]
  },
  {
   "cell_type": "code",
   "execution_count": 26,
   "metadata": {},
   "outputs": [
    {
     "name": "stdout",
     "output_type": "stream",
     "text": [
      "Coffee Maker: (157.5, 20.48)\n",
      "Ceiling Fan: (8.75, 0.88)\n"
     ]
    }
   ],
   "source": [
    "# Test\n",
    "print(\"Coffee Maker:\", energy_cost(900,.13,.5,350))\n",
    "print(\"Ceiling Fan:\", energy_cost(35,.10,1,250))"
   ]
  },
  {
   "cell_type": "code",
   "execution_count": 29,
   "metadata": {},
   "outputs": [],
   "source": [
    "def state_energy_cost(wattage,state,hours,days):\n",
    "  '''\n",
    "  This function calculates how much energy a device uses per year\n",
    "  and how much it will cost on a yearly basis based on the state you live.\n",
    "\n",
    "  Example: The typically wattage level of a laptop \n",
    "  is 50 watts. The average utility rate in\n",
    "  Missouri is $.0928/kWh. If you use your laptop for\n",
    "  four hours (4) a day for 5 days a week or \n",
    "  260 days a year, that's a total of 52.0 kWh, \n",
    "  and would cost $4.83 a year. \n",
    "\n",
    "  energy_used = (50 * 4 * 260) / 1000\n",
    "  cost_per_year = energy_used * .09\n",
    "  '''\n",
    "  wattage = wattage\n",
    "  state = state \n",
    "  utility_rate = states[states[\"state\"]== state ][\"rate\"].item()\n",
    "  hours_per_day = hours\n",
    "  days_per_year = days\n",
    "  watts_per_kilowatt = 1000\n",
    "\n",
    "  energy_used = (wattage*hours_per_day*days_per_year)/watts_per_kilowatt\n",
    "  cost_per_year = round(energy_used* utility_rate,2)\n",
    "\n",
    "  return energy_used, cost_per_year"
   ]
  },
  {
   "cell_type": "code",
   "execution_count": 31,
   "metadata": {},
   "outputs": [
    {
     "name": "stdout",
     "output_type": "stream",
     "text": [
      "(52.0, 4.83)\n",
      "(104.0, 11.21)\n"
     ]
    }
   ],
   "source": [
    "# Testing \n",
    "print(state_energy_cost(50,\"Missouri\",4,260))\n",
    "print(state_energy_cost(100,\"Tennessee\",4,260))"
   ]
  },
  {
   "cell_type": "code",
   "execution_count": 34,
   "metadata": {},
   "outputs": [],
   "source": []
  },
  {
   "cell_type": "code",
   "execution_count": null,
   "metadata": {},
   "outputs": [],
   "source": []
  }
 ],
 "metadata": {
  "kernelspec": {
   "display_name": "encon (Python3)",
   "language": "python",
   "name": "encon"
  },
  "language_info": {
   "codemirror_mode": {
    "name": "ipython",
    "version": 3
   },
   "file_extension": ".py",
   "mimetype": "text/x-python",
   "name": "python",
   "nbconvert_exporter": "python",
   "pygments_lexer": "ipython3",
   "version": "3.7.6"
  }
 },
 "nbformat": 4,
 "nbformat_minor": 4
}
